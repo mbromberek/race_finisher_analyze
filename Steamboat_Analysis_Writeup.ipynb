{
 "cells": [
  {
   "cell_type": "markdown",
   "id": "dc686bb3-597b-42f0-8667-9ffc5f6cc6d7",
   "metadata": {
    "editable": true,
    "slideshow": {
     "slide_type": ""
    },
    "tags": []
   },
   "source": [
    "# Steamboat Finisher Race Analysis"
   ]
  },
  {
   "cell_type": "markdown",
   "id": "2e5c8540-ea21-4fa7-9276-68169a1895f6",
   "metadata": {},
   "source": [
    "In 2019 the 15K race changed from running up and down the Steamboat hills 2 times to 3 times. Want to determine if the change to the course resulted in faster or slower finisher times. "
   ]
  },
  {
   "cell_type": "markdown",
   "id": "26d7df7c-2ad5-4352-8f48-56c530821fb2",
   "metadata": {},
   "source": [
    "Gathered the data from 2016 through 2023 (the 15K was not run in 2020 or 2021) to get three years of data with doing the hills two times and three years with doing the hills three times. \n",
    "\n",
    "Used this code to get and clean data\n",
    "Notebook files\n",
    "- athlinks_scrape.ipynb\n",
    "- athlinks_clean.ipynb\n",
    "\n",
    "HTML Files\n",
    "- html_notebooks/athlinks_scrape.html\n",
    "- html/athlinks_clean.html\n"
   ]
  },
  {
   "cell_type": "markdown",
   "id": "e19f6035-c22d-43f8-8eca-eea0ec1a66fc",
   "metadata": {},
   "source": [
    "Grouped finishers by age groups of every five years to compare finish times. "
   ]
  },
  {
   "cell_type": "markdown",
   "id": "89c1fbe6-acc8-47c1-861b-908085863d81",
   "metadata": {},
   "source": [
    "Looking at finish times by age group for men and women for each year looks like the three hill course is usually faster for men and women. \n"
   ]
  },
  {
   "cell_type": "code",
   "execution_count": null,
   "id": "f1cf06a2-89f3-40f6-96fe-cc24f10160bd",
   "metadata": {},
   "outputs": [],
   "source": [
    "<img src=\""
   ]
  }
 ],
 "metadata": {
  "kernelspec": {
   "display_name": "Python 3 (ipykernel)",
   "language": "python",
   "name": "python3"
  },
  "language_info": {
   "codemirror_mode": {
    "name": "ipython",
    "version": 3
   },
   "file_extension": ".py",
   "mimetype": "text/x-python",
   "name": "python",
   "nbconvert_exporter": "python",
   "pygments_lexer": "ipython3",
   "version": "3.11.5"
  }
 },
 "nbformat": 4,
 "nbformat_minor": 5
}
