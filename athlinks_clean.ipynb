{
 "cells": [
  {
   "cell_type": "markdown",
   "id": "329e373e-5290-4e7b-8c9a-14cc07867612",
   "metadata": {},
   "source": [
    "# Clean and merge data"
   ]
  },
  {
   "cell_type": "code",
   "execution_count": 1,
   "id": "a683d7e6-6c01-4664-8d39-a2b262cda2ef",
   "metadata": {},
   "outputs": [],
   "source": [
    "# First party libraries\n",
    "import os\n",
    "\n",
    "# 3rd Party Libraries\n",
    "import pandas as pd\n",
    "import numpy as np"
   ]
  },
  {
   "cell_type": "code",
   "execution_count": 2,
   "id": "f102bd85-1d3f-46a3-acb0-1298ef6d14ad",
   "metadata": {},
   "outputs": [],
   "source": [
    "def clean_data(df):\n",
    "    # Get time in seconds\n",
    "    df[['tm_split_s','tm_split_m','tm_split_h']] = df['time'].\\\n",
    "        apply(lambda x:pd.Series(x.split(':')[::-1]))\n",
    "    df[['tm_split_s','tm_split_m','tm_split_h']] = \\\n",
    "    df[['tm_split_s','tm_split_m','tm_split_h']].fillna(0).astype('int64')\n",
    "    df['time_seconds'] = df['tm_split_s'] + df['tm_split_m']  *60 + df['tm_split_h'] *3600\n",
    "\n",
    "    # Remove records missing age\n",
    "    df.dropna(subset=['age'], inplace=True)\n",
    "\n",
    "    # Change field types\n",
    "    convert_dict = {'bib':'object','age':'int64'}\n",
    "    df = df.astype(convert_dict)\n",
    "\n",
    "    # Drop unneeded fields\n",
    "    df.drop(columns=['name','bib', 'tm_split_s', 'tm_split_m', 'tm_split_h']\\\n",
    "            , inplace=True)\n",
    "\n",
    "    return df\n"
   ]
  },
  {
   "cell_type": "code",
   "execution_count": 6,
   "id": "d54e1d7f-02d9-4605-a85b-d51a52cf140b",
   "metadata": {},
   "outputs": [],
   "source": [
    "data_dir = 'data'\n",
    "csv_files = ['Steamboat_15K_2016_results.csv',\\\n",
    "             'Steamboat_15K_2018_results.csv',\\\n",
    "             'Steamboat_15K_2022_results.csv',\\\n",
    "             'Steamboat_15K_2017_results.csv',\\\n",
    "             'Steamboat_15K_2019_results.csv',\\\n",
    "             'Steamboat_15K_2023_results.csv',\\\n",
    "             'Steamboat_4mi_2016_results.csv',\\\n",
    "             'Steamboat_4mi_2017_results.csv',\\\n",
    "             'Steamboat_4mi_2018_results.csv',\\\n",
    "             'Steamboat_4mi_2019_results.csv',\\\n",
    "             'Steamboat_4mi_2021_results.csv',\\\n",
    "             'Steamboat_4mi_2022_results.csv',\\\n",
    "             'Steamboat_4mi_2023_results.csv'\n",
    "            ]\n"
   ]
  },
  {
   "cell_type": "code",
   "execution_count": 7,
   "id": "b7749919-7aa7-4d94-aa17-6a28ece82c40",
   "metadata": {},
   "outputs": [],
   "source": [
    "race_results = pd.DataFrame()\n",
    "for f_name in csv_files:\n",
    "    race_df = pd.read_csv(os.path.join(data_dir, f_name))\n",
    "    race_df['distance'] = f_name.split('_')[1]\n",
    "    race_df['year'] = f_name.split('_')[2]\n",
    "    race_results = pd.concat([race_results, clean_data(race_df)], ignore_index=True)"
   ]
  },
  {
   "cell_type": "code",
   "execution_count": 8,
   "id": "2e9792f9-1032-48a6-86e9-ae793a004131",
   "metadata": {},
   "outputs": [],
   "source": [
    "race_results.to_pickle(os.path.join(data_dir, 'Steamboat_clean_results.pickle'))\n",
    "race_results.to_csv(os.path.join(data_dir, 'Steamboat_clean_results.csv'))"
   ]
  }
 ],
 "metadata": {
  "kernelspec": {
   "display_name": "Python 3 (ipykernel)",
   "language": "python",
   "name": "python3"
  },
  "language_info": {
   "codemirror_mode": {
    "name": "ipython",
    "version": 3
   },
   "file_extension": ".py",
   "mimetype": "text/x-python",
   "name": "python",
   "nbconvert_exporter": "python",
   "pygments_lexer": "ipython3",
   "version": "3.11.5"
  }
 },
 "nbformat": 4,
 "nbformat_minor": 5
}
