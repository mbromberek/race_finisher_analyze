{
 "cells": [
  {
   "cell_type": "markdown",
   "id": "e1e79b87-fb61-4e07-9f05-ee9fe7f5c818",
   "metadata": {},
   "source": [
    "# Analyze data"
   ]
  },
  {
   "cell_type": "markdown",
   "id": "12b060aa-7ea3-4c78-a8be-95c99d93f927",
   "metadata": {},
   "source": [
    "## Table of Contents\n",
    "- Number of Race Finishers\n",
    "- "
   ]
  },
  {
   "cell_type": "code",
   "execution_count": 2,
   "id": "e5e919de-3295-4ad4-92fa-83238fa2e593",
   "metadata": {},
   "outputs": [],
   "source": [
    "# First party libraries\n",
    "import os\n",
    "\n",
    "# 3rd Party Libraries\n",
    "import pandas as pd\n",
    "import numpy as np\n",
    "import matplotlib.pyplot as plt"
   ]
  },
  {
   "cell_type": "code",
   "execution_count": 3,
   "id": "9290e33b-dfc4-47c8-aa2b-efb75c2b460f",
   "metadata": {},
   "outputs": [],
   "source": [
    "def seconds_to_str(df, tm_field):\n",
    "    df_copy = df.copy()\n",
    "    df_copy['tm_hr'] = (df_copy[tm_field] / 3600).apply(np.floor).astype('int')\n",
    "    df_copy['tm_min'] = ((df_copy[tm_field]-(df_copy['tm_hr']*3600)) / 60).apply(np.floor).astype('int')\n",
    "    df_copy['tm_sec'] = (df_copy[tm_field] %60).apply(np.floor).astype('int')\n",
    "    return df_copy['tm_hr'].astype('str') + ':' + df_copy['tm_min'].astype('str') + ':' + \\\n",
    "        df_copy['tm_sec'].astype('str')\n"
   ]
  },
  {
   "cell_type": "markdown",
   "id": "c4bf5679-a66f-4806-9b73-9e01d7d1a403",
   "metadata": {},
   "source": [
    "### Specify the directory to read from and file to use\n",
    "Filters read in race results to only ones for 15K distance"
   ]
  },
  {
   "cell_type": "code",
   "execution_count": 8,
   "id": "27e96ab8-d5d6-4f5e-bcec-a53c2ab63529",
   "metadata": {},
   "outputs": [],
   "source": [
    "data_dir = 'data'\n",
    "chart_dir = 'charts'\n",
    "f_name = 'Steamboat_clean_results.pickle'\n",
    "race_results_all = pd.read_pickle(os.path.join(data_dir, f_name))\n",
    "race_results = race_results_all.copy()"
   ]
  },
  {
   "cell_type": "code",
   "execution_count": 9,
   "id": "9f496acb-e3fa-4546-bcd1-ed514f9ec0d2",
   "metadata": {},
   "outputs": [
    {
     "name": "stdout",
     "output_type": "stream",
     "text": [
      "<class 'pandas.core.frame.DataFrame'>\n",
      "RangeIndex: 13820 entries, 0 to 13819\n",
      "Data columns (total 6 columns):\n",
      " #   Column        Non-Null Count  Dtype \n",
      "---  ------        --------------  ----- \n",
      " 0   gender        13820 non-null  object\n",
      " 1   age           13820 non-null  int64 \n",
      " 2   time          13820 non-null  object\n",
      " 3   distance      13820 non-null  object\n",
      " 4   year          13820 non-null  object\n",
      " 5   time_seconds  13820 non-null  int64 \n",
      "dtypes: int64(2), object(4)\n",
      "memory usage: 647.9+ KB\n",
      "None\n"
     ]
    }
   ],
   "source": [
    "print(race_results.info())"
   ]
  },
  {
   "cell_type": "code",
   "execution_count": 10,
   "id": "fc622f4b-a155-4489-8070-9c1c5c43f0d4",
   "metadata": {},
   "outputs": [
    {
     "data": {
      "text/html": [
       "<div>\n",
       "<style scoped>\n",
       "    .dataframe tbody tr th:only-of-type {\n",
       "        vertical-align: middle;\n",
       "    }\n",
       "\n",
       "    .dataframe tbody tr th {\n",
       "        vertical-align: top;\n",
       "    }\n",
       "\n",
       "    .dataframe thead th {\n",
       "        text-align: right;\n",
       "    }\n",
       "</style>\n",
       "<table border=\"1\" class=\"dataframe\">\n",
       "  <thead>\n",
       "    <tr style=\"text-align: right;\">\n",
       "      <th></th>\n",
       "      <th></th>\n",
       "      <th>finisher_count</th>\n",
       "    </tr>\n",
       "    <tr>\n",
       "      <th>year</th>\n",
       "      <th>distance</th>\n",
       "      <th></th>\n",
       "    </tr>\n",
       "  </thead>\n",
       "  <tbody>\n",
       "    <tr>\n",
       "      <th rowspan=\"2\" valign=\"top\">2016</th>\n",
       "      <th>15K</th>\n",
       "      <td>821</td>\n",
       "    </tr>\n",
       "    <tr>\n",
       "      <th>4mi</th>\n",
       "      <td>2346</td>\n",
       "    </tr>\n",
       "    <tr>\n",
       "      <th rowspan=\"2\" valign=\"top\">2017</th>\n",
       "      <th>15K</th>\n",
       "      <td>665</td>\n",
       "    </tr>\n",
       "    <tr>\n",
       "      <th>4mi</th>\n",
       "      <td>1781</td>\n",
       "    </tr>\n",
       "    <tr>\n",
       "      <th rowspan=\"2\" valign=\"top\">2018</th>\n",
       "      <th>15K</th>\n",
       "      <td>655</td>\n",
       "    </tr>\n",
       "    <tr>\n",
       "      <th>4mi</th>\n",
       "      <td>1848</td>\n",
       "    </tr>\n",
       "    <tr>\n",
       "      <th rowspan=\"2\" valign=\"top\">2019</th>\n",
       "      <th>15K</th>\n",
       "      <td>545</td>\n",
       "    </tr>\n",
       "    <tr>\n",
       "      <th>4mi</th>\n",
       "      <td>1491</td>\n",
       "    </tr>\n",
       "    <tr>\n",
       "      <th>2021</th>\n",
       "      <th>4mi</th>\n",
       "      <td>948</td>\n",
       "    </tr>\n",
       "    <tr>\n",
       "      <th rowspan=\"2\" valign=\"top\">2022</th>\n",
       "      <th>15K</th>\n",
       "      <td>293</td>\n",
       "    </tr>\n",
       "    <tr>\n",
       "      <th>4mi</th>\n",
       "      <td>1052</td>\n",
       "    </tr>\n",
       "    <tr>\n",
       "      <th rowspan=\"2\" valign=\"top\">2023</th>\n",
       "      <th>15K</th>\n",
       "      <td>323</td>\n",
       "    </tr>\n",
       "    <tr>\n",
       "      <th>4mi</th>\n",
       "      <td>1052</td>\n",
       "    </tr>\n",
       "  </tbody>\n",
       "</table>\n",
       "</div>"
      ],
      "text/plain": [
       "               finisher_count\n",
       "year distance                \n",
       "2016 15K                  821\n",
       "     4mi                 2346\n",
       "2017 15K                  665\n",
       "     4mi                 1781\n",
       "2018 15K                  655\n",
       "     4mi                 1848\n",
       "2019 15K                  545\n",
       "     4mi                 1491\n",
       "2021 4mi                  948\n",
       "2022 15K                  293\n",
       "     4mi                 1052\n",
       "2023 15K                  323\n",
       "     4mi                 1052"
      ]
     },
     "execution_count": 10,
     "metadata": {},
     "output_type": "execute_result"
    }
   ],
   "source": [
    "race_results.groupby(['year','distance']).agg(finisher_count=('age', 'count'))"
   ]
  },
  {
   "cell_type": "markdown",
   "id": "2ae4aafc-e903-49da-b38a-9b4e50498158",
   "metadata": {},
   "source": [
    "Can see number of runners were declining but had a bigger drop after 2019. Even with 2021 only having a 4 mile and no 15K race. "
   ]
  },
  {
   "cell_type": "code",
   "execution_count": 7,
   "id": "8e51daab-b26e-4466-8cec-7635e7d8e5e0",
   "metadata": {},
   "outputs": [
    {
     "data": {
      "text/html": [
       "<div>\n",
       "<style scoped>\n",
       "    .dataframe tbody tr th:only-of-type {\n",
       "        vertical-align: middle;\n",
       "    }\n",
       "\n",
       "    .dataframe tbody tr th {\n",
       "        vertical-align: top;\n",
       "    }\n",
       "\n",
       "    .dataframe thead th {\n",
       "        text-align: right;\n",
       "    }\n",
       "</style>\n",
       "<table border=\"1\" class=\"dataframe\">\n",
       "  <thead>\n",
       "    <tr style=\"text-align: right;\">\n",
       "      <th></th>\n",
       "      <th></th>\n",
       "      <th></th>\n",
       "      <th>finisher_count</th>\n",
       "    </tr>\n",
       "    <tr>\n",
       "      <th>year</th>\n",
       "      <th>distance</th>\n",
       "      <th>gender</th>\n",
       "      <th></th>\n",
       "    </tr>\n",
       "  </thead>\n",
       "  <tbody>\n",
       "    <tr>\n",
       "      <th rowspan=\"4\" valign=\"top\">2016</th>\n",
       "      <th rowspan=\"2\" valign=\"top\">15K</th>\n",
       "      <th>F</th>\n",
       "      <td>363</td>\n",
       "    </tr>\n",
       "    <tr>\n",
       "      <th>M</th>\n",
       "      <td>458</td>\n",
       "    </tr>\n",
       "    <tr>\n",
       "      <th rowspan=\"2\" valign=\"top\">4mi</th>\n",
       "      <th>F</th>\n",
       "      <td>1197</td>\n",
       "    </tr>\n",
       "    <tr>\n",
       "      <th>M</th>\n",
       "      <td>1149</td>\n",
       "    </tr>\n",
       "    <tr>\n",
       "      <th rowspan=\"4\" valign=\"top\">2017</th>\n",
       "      <th rowspan=\"2\" valign=\"top\">15K</th>\n",
       "      <th>F</th>\n",
       "      <td>295</td>\n",
       "    </tr>\n",
       "    <tr>\n",
       "      <th>M</th>\n",
       "      <td>370</td>\n",
       "    </tr>\n",
       "    <tr>\n",
       "      <th rowspan=\"2\" valign=\"top\">4mi</th>\n",
       "      <th>F</th>\n",
       "      <td>887</td>\n",
       "    </tr>\n",
       "    <tr>\n",
       "      <th>M</th>\n",
       "      <td>894</td>\n",
       "    </tr>\n",
       "    <tr>\n",
       "      <th rowspan=\"4\" valign=\"top\">2018</th>\n",
       "      <th rowspan=\"2\" valign=\"top\">15K</th>\n",
       "      <th>F</th>\n",
       "      <td>289</td>\n",
       "    </tr>\n",
       "    <tr>\n",
       "      <th>M</th>\n",
       "      <td>366</td>\n",
       "    </tr>\n",
       "    <tr>\n",
       "      <th rowspan=\"2\" valign=\"top\">4mi</th>\n",
       "      <th>F</th>\n",
       "      <td>932</td>\n",
       "    </tr>\n",
       "    <tr>\n",
       "      <th>M</th>\n",
       "      <td>916</td>\n",
       "    </tr>\n",
       "    <tr>\n",
       "      <th rowspan=\"2\" valign=\"top\">2019</th>\n",
       "      <th rowspan=\"2\" valign=\"top\">15K</th>\n",
       "      <th>F</th>\n",
       "      <td>227</td>\n",
       "    </tr>\n",
       "    <tr>\n",
       "      <th>M</th>\n",
       "      <td>318</td>\n",
       "    </tr>\n",
       "    <tr>\n",
       "      <th rowspan=\"3\" valign=\"top\">2021</th>\n",
       "      <th rowspan=\"3\" valign=\"top\">4mi</th>\n",
       "      <th>F</th>\n",
       "      <td>448</td>\n",
       "    </tr>\n",
       "    <tr>\n",
       "      <th>M</th>\n",
       "      <td>499</td>\n",
       "    </tr>\n",
       "    <tr>\n",
       "      <th>U</th>\n",
       "      <td>1</td>\n",
       "    </tr>\n",
       "    <tr>\n",
       "      <th rowspan=\"4\" valign=\"top\">2022</th>\n",
       "      <th rowspan=\"2\" valign=\"top\">15K</th>\n",
       "      <th>F</th>\n",
       "      <td>128</td>\n",
       "    </tr>\n",
       "    <tr>\n",
       "      <th>M</th>\n",
       "      <td>165</td>\n",
       "    </tr>\n",
       "    <tr>\n",
       "      <th rowspan=\"2\" valign=\"top\">4mi</th>\n",
       "      <th>F</th>\n",
       "      <td>494</td>\n",
       "    </tr>\n",
       "    <tr>\n",
       "      <th>M</th>\n",
       "      <td>558</td>\n",
       "    </tr>\n",
       "    <tr>\n",
       "      <th rowspan=\"4\" valign=\"top\">2023</th>\n",
       "      <th rowspan=\"2\" valign=\"top\">15K</th>\n",
       "      <th>F</th>\n",
       "      <td>115</td>\n",
       "    </tr>\n",
       "    <tr>\n",
       "      <th>M</th>\n",
       "      <td>208</td>\n",
       "    </tr>\n",
       "    <tr>\n",
       "      <th rowspan=\"2\" valign=\"top\">4mi</th>\n",
       "      <th>F</th>\n",
       "      <td>519</td>\n",
       "    </tr>\n",
       "    <tr>\n",
       "      <th>M</th>\n",
       "      <td>533</td>\n",
       "    </tr>\n",
       "  </tbody>\n",
       "</table>\n",
       "</div>"
      ],
      "text/plain": [
       "                      finisher_count\n",
       "year distance gender                \n",
       "2016 15K      F                  363\n",
       "              M                  458\n",
       "     4mi      F                 1197\n",
       "              M                 1149\n",
       "2017 15K      F                  295\n",
       "              M                  370\n",
       "     4mi      F                  887\n",
       "              M                  894\n",
       "2018 15K      F                  289\n",
       "              M                  366\n",
       "     4mi      F                  932\n",
       "              M                  916\n",
       "2019 15K      F                  227\n",
       "              M                  318\n",
       "2021 4mi      F                  448\n",
       "              M                  499\n",
       "              U                    1\n",
       "2022 15K      F                  128\n",
       "              M                  165\n",
       "     4mi      F                  494\n",
       "              M                  558\n",
       "2023 15K      F                  115\n",
       "              M                  208\n",
       "     4mi      F                  519\n",
       "              M                  533"
      ]
     },
     "execution_count": 7,
     "metadata": {},
     "output_type": "execute_result"
    }
   ],
   "source": [
    "race_results.groupby(['year','distance','gender']).agg(finisher_count=('age', 'count'))"
   ]
  },
  {
   "cell_type": "markdown",
   "id": "b93acb85-a64b-4649-9722-6d613073f19f",
   "metadata": {},
   "source": [
    "### Create column for age groups of every N years "
   ]
  },
  {
   "cell_type": "code",
   "execution_count": 11,
   "id": "165a83b2-48cc-4380-b9d9-389af44e1075",
   "metadata": {},
   "outputs": [],
   "source": [
    "age_group_years = 5\n",
    "if age_group_years == 5:\n",
    "    conditions = [\n",
    "        race_results['age'].lt(20),\n",
    "        race_results['age'].ge(20) & race_results['age'].lt(25),\n",
    "        race_results['age'].ge(25) & race_results['age'].lt(30),\n",
    "        race_results['age'].ge(30) & race_results['age'].lt(35),\n",
    "        race_results['age'].ge(35) & race_results['age'].lt(40),\n",
    "        race_results['age'].ge(40) & race_results['age'].lt(45),\n",
    "        race_results['age'].ge(45) & race_results['age'].lt(50),\n",
    "        race_results['age'].ge(50) & race_results['age'].lt(55),\n",
    "        race_results['age'].ge(55) & race_results['age'].lt(60),\n",
    "        race_results['age'].ge(60) & race_results['age'].lt(65),\n",
    "        race_results['age'].ge(65) & race_results['age'].lt(70),\n",
    "        race_results['age'].ge(70)\n",
    "    ]\n",
    "    choices = ['0 to 19','20 to 24','25 to 29','30 to 34','35 to 39','40 to 44','45 to 49', \\\n",
    "               '50 to 54','55 to 59','60 to 64','65 to 69','70 Over']\n",
    "else:\n",
    "    conditions = [\n",
    "        race_results['age'].lt(20),\n",
    "        race_results['age'].ge(20) & race_results['age'].lt(30),\n",
    "        race_results['age'].ge(30) & race_results['age'].lt(40),\n",
    "        race_results['age'].ge(40) & race_results['age'].lt(50),\n",
    "        race_results['age'].ge(50) & race_results['age'].lt(60),\n",
    "        race_results['age'].ge(60) & race_results['age'].lt(70),\n",
    "        race_results['age'].ge(70)\n",
    "    ]\n",
    "    choices = ['0 to 19','20 to 29','30 to 39','40 to 49','50 to 59','60 to 69','70 Over']\n",
    "race_results['age_group'] = np.select(conditions, choices, default=0)\n"
   ]
  },
  {
   "cell_type": "code",
   "execution_count": 12,
   "id": "e03fb9d4-657e-41a4-ab67-80508ebbba71",
   "metadata": {},
   "outputs": [],
   "source": [
    "conditions = [\n",
    "    race_results['year'].isin(['2016','2017','2018']),\n",
    "    race_results['year'].isin(['2019','2021','2022','2023'])\n",
    "]\n",
    "choices = ['2 loops','3 loops']\n",
    "race_results['race_course'] = np.select(conditions, choices, default=0)"
   ]
  },
  {
   "cell_type": "code",
   "execution_count": 59,
   "id": "6a845b93-ae10-444a-baeb-ae1cd2c97150",
   "metadata": {},
   "outputs": [
    {
     "name": "stdout",
     "output_type": "stream",
     "text": [
      "<class 'pandas.core.frame.DataFrame'>\n",
      "RangeIndex: 468 entries, 0 to 467\n",
      "Data columns (total 13 columns):\n",
      " #   Column              Non-Null Count  Dtype  \n",
      "---  ------              --------------  -----  \n",
      " 0   year                468 non-null    object \n",
      " 1   distance            468 non-null    object \n",
      " 2   gender              468 non-null    object \n",
      " 3   age_group           468 non-null    object \n",
      " 4   finisher_count      468 non-null    int64  \n",
      " 5   avg_time_s          468 non-null    float64\n",
      " 6   fastest_time_s      468 non-null    int64  \n",
      " 7   slowest_time_s      468 non-null    int64  \n",
      " 8   median_time_s       468 non-null    float64\n",
      " 9   avg_time_string     468 non-null    object \n",
      " 10  avg_time_minute     468 non-null    float64\n",
      " 11  median_time_string  468 non-null    object \n",
      " 12  median_time_minute  468 non-null    float64\n",
      "dtypes: float64(4), int64(3), object(6)\n",
      "memory usage: 47.7+ KB\n"
     ]
    }
   ],
   "source": [
    "# The unstack, stack is used to have a record for all age groups for all years and genders\n",
    "age_grp_det = race_results.groupby(['year','distance','gender','age_group'])\\\n",
    "    .agg(finisher_count=('age', 'count')\n",
    "         , avg_time_s = ('time_seconds','mean')\n",
    "         , fastest_time_s = ('time_seconds','min')\n",
    "         , slowest_time_s = ('time_seconds','max')\n",
    "         , median_time_s = ('time_seconds','median')\n",
    "        ).unstack(fill_value=0).unstack(fill_value=0).stack().stack()\\\n",
    "        .sort_values(by=['year','distance','gender']).reset_index()\n",
    "\n",
    "age_grp_det['avg_time_string'] = seconds_to_str(age_grp_det, 'avg_time_s')\n",
    "age_grp_det['avg_time_minute'] = age_grp_det['avg_time_s'] /60\n",
    "age_grp_det['median_time_string'] = seconds_to_str(age_grp_det, 'median_time_s')\n",
    "age_grp_det['median_time_minute'] = age_grp_det['median_time_s'] /60\n",
    "\n",
    "age_grp_det.info()"
   ]
  },
  {
   "cell_type": "markdown",
   "id": "230b4418-f6d6-44fb-ada3-018c16bc9338",
   "metadata": {},
   "source": [
    "# Number of Finishers"
   ]
  },
  {
   "cell_type": "markdown",
   "id": "c8fc0b00-1875-4e01-ab24-d9d618988c2c",
   "metadata": {},
   "source": [
    "## Number of finishers by distance and year"
   ]
  },
  {
   "cell_type": "code",
   "execution_count": 65,
   "id": "8bf7adcd-9976-4589-9253-53a3bdd3fa01",
   "metadata": {},
   "outputs": [],
   "source": [
    "yr_dist_ct = race_results.groupby(['year','distance'])\\\n",
    "    .agg(finisher_count=('age', 'count'))\\\n",
    "    .unstack(fill_value=0).stack()\\\n",
    "    .sort_values(by=['year','distance']).reset_index()"
   ]
  },
  {
   "cell_type": "code",
   "execution_count": 66,
   "id": "f5d59d09-44db-43ac-b6b5-c7726d83f499",
   "metadata": {},
   "outputs": [
    {
     "name": "stdout",
     "output_type": "stream",
     "text": [
      "    year distance  finisher_count\n",
      "0   2016      15K             821\n",
      "1   2016      4mi            2346\n",
      "2   2017      15K             665\n",
      "3   2017      4mi            1781\n",
      "4   2018      15K             655\n",
      "5   2018      4mi            1848\n",
      "6   2019      15K             545\n",
      "7   2019      4mi            1491\n",
      "8   2021      15K               0\n",
      "9   2021      4mi             948\n",
      "10  2022      15K             293\n",
      "11  2022      4mi            1052\n",
      "12  2023      15K             323\n",
      "13  2023      4mi            1052\n"
     ]
    }
   ],
   "source": [
    "print(yr_dist_ct)"
   ]
  },
  {
   "cell_type": "code",
   "execution_count": 76,
   "id": "7ccad46a-d3da-40a1-ab4d-be6662dddea5",
   "metadata": {
    "scrolled": true
   },
   "outputs": [
    {
     "data": {
      "image/png": "[encoded data removed]",
      "text/plain": [
       "<Figure size 1200x600 with 1 Axes>"
      ]
     },
     "metadata": {},
     "output_type": "display_data"
    }
   ],
   "source": [
    "labels = yr_dist_ct['year'].unique()\n",
    "ct_field = 'finisher_count'\n",
    "\n",
    "ct_15K = yr_dist_ct[yr_dist_ct['distance']=='15K'][ct_field]\n",
    "ct_4mi = yr_dist_ct[(yr_dist_ct['distance']=='4mi')][ct_field]\n",
    "\n",
    "fig, ax = plt.subplots(figsize=(12,6))\n",
    "bar_width=0.4\n",
    "xlocs = np.arange(len(labels))\n",
    "\n",
    "ax.bar(xlocs -bar_width*0.5, ct_15K, bar_width, color='green', label='15K')\n",
    "ax.bar(xlocs +bar_width*0.5, ct_4mi, bar_width, color='blue', label='4 mile')\n",
    "\n",
    "ax.set_yticks(range(0, yr_dist_ct['finisher_count'].max()+10, 300))\n",
    "# ax.set_yticks(range(0,465,100))\n",
    "    \n",
    "ax.set_xticks(ticks=range(len(ct_15K)))\n",
    "ax.set_xticklabels(labels)\n",
    "ax.yaxis.grid(True)\n",
    "ax.legend(loc='best')\n",
    "ax.set_ylabel('Number of finishers')\n",
    "ax.set_xlabel('Year')\n",
    "fig.suptitle('Finishers by distance')\n",
    "fig.tight_layout(pad=2)\n",
    "fig.savefig(os.path.join(chart_dir, 'Finisher_count_by_distance.png'), dpi=200)\n"
   ]
  },
  {
   "cell_type": "markdown",
   "id": "0b986853-44db-4d4f-87d5-cc0a4f812854",
   "metadata": {},
   "source": [
    "## Number of men and women finishers by distance and year\n",
    "- There was not a 15K race in 2021"
   ]
  },
  {
   "cell_type": "markdown",
   "id": "0084375d-73ad-4cd3-a99d-c86c766a89b1",
   "metadata": {},
   "source": [
    "First unstack fills in 0 for any genders that do not have participants for a race, second unstack fills in 0 for any distance that is not present for a year. \n"
   ]
  },
  {
   "cell_type": "code",
   "execution_count": 60,
   "id": "62d5f9ed-011e-4980-af24-d57fae3cc197",
   "metadata": {},
   "outputs": [],
   "source": [
    "gender_ct = race_results[race_results['gender'].isin(['M','F'])].groupby(['year','distance','gender'])\\\n",
    "    .agg(finisher_count=('age', 'count'))\\\n",
    "    .unstack(fill_value=0).unstack(fill_value=0).stack().stack()\\\n",
    "    .sort_values(by=['year','distance','gender']).reset_index()"
   ]
  },
  {
   "cell_type": "code",
   "execution_count": 61,
   "id": "9c2b558a-c4b8-4650-97ff-6023b0b44863",
   "metadata": {},
   "outputs": [
    {
     "name": "stdout",
     "output_type": "stream",
     "text": [
      "    year distance gender  finisher_count\n",
      "0   2016      15K      F             363\n",
      "1   2016      15K      M             458\n",
      "2   2016      4mi      F            1197\n",
      "3   2016      4mi      M            1149\n",
      "4   2017      15K      F             295\n",
      "5   2017      15K      M             370\n",
      "6   2017      4mi      F             887\n",
      "7   2017      4mi      M             894\n",
      "8   2018      15K      F             289\n",
      "9   2018      15K      M             366\n",
      "10  2018      4mi      F             932\n",
      "11  2018      4mi      M             916\n",
      "12  2019      15K      F             227\n",
      "13  2019      15K      M             318\n",
      "14  2019      4mi      F             738\n",
      "15  2019      4mi      M             753\n",
      "16  2021      15K      F               0\n",
      "17  2021      15K      M               0\n",
      "18  2021      4mi      F             448\n",
      "19  2021      4mi      M             499\n",
      "20  2022      15K      F             128\n",
      "21  2022      15K      M             165\n",
      "22  2022      4mi      F             494\n",
      "23  2022      4mi      M             558\n",
      "24  2023      15K      F             115\n",
      "25  2023      15K      M             208\n",
      "26  2023      4mi      F             519\n",
      "27  2023      4mi      M             533\n"
     ]
    }
   ],
   "source": [
    "print(gender_ct)"
   ]
  },
  {
   "cell_type": "code",
   "execution_count": 62,
   "id": "7786d9d8-ffa7-40e3-bc1d-5ed45f4ddb26",
   "metadata": {
    "scrolled": true
   },
   "outputs": [
    {
     "data": {
      "image/png": "[encoded data removed]",
      "text/plain": [
       "<Figure size 1200x600 with 1 Axes>"
      ]
     },
     "metadata": {},
     "output_type": "display_data"
    }
   ],
   "source": [
    "labels = gender_ct['year'].unique()\n",
    "ct_field = 'finisher_count'\n",
    "sort_fields = 'year'\n",
    "men15K_ct_data = gender_ct[(gender_ct['gender']=='M') & (gender_ct['distance']=='15K')]\\\n",
    "    [ct_field]\n",
    "women15K_ct_data = gender_ct[(gender_ct['gender']=='F') & (gender_ct['distance']=='15K')][ct_field]\n",
    "men4mi_ct_data = gender_ct[(gender_ct['gender']=='M') & (gender_ct['distance']=='4mi')]\\\n",
    "    [ct_field]\n",
    "women4mi_ct_data = gender_ct[(gender_ct['gender']=='F') & (gender_ct['distance']=='4mi')]\\\n",
    "    [ct_field]\n",
    "\n",
    "fig, ax = plt.subplots(figsize=(12,6))\n",
    "bar_width=0.2\n",
    "xlocs = np.arange(len(labels))\n",
    "\n",
    "ax.bar(xlocs -bar_width*2, men15K_ct_data, bar_width, color='green', label='Male 15K')\n",
    "ax.bar(xlocs -bar_width*1, women15K_ct_data, bar_width, color='blue', label='Female 15K')\n",
    "ax.bar(xlocs -bar_width*0, men4mi_ct_data, bar_width, color='orange', label='Male 4 mile')\n",
    "ax.bar(xlocs +bar_width*1, women4mi_ct_data, bar_width, color='purple', label='Female 4 mile')\n",
    "\n",
    "ax.set_yticks(range(0, gender_ct['finisher_count'].max()+10, 100))\n",
    "# ax.set_yticks(range(0,465,100))\n",
    "    \n",
    "ax.set_xticks(ticks=range(len(men4mi_ct_data)))\n",
    "ax.set_xticklabels(labels)\n",
    "ax.yaxis.grid(True)\n",
    "ax.legend(loc='best')\n",
    "ax.set_ylabel('Number of finishers')\n",
    "ax.set_xlabel('Year')\n",
    "fig.suptitle('Finishers by distance and gender')\n",
    "fig.tight_layout(pad=2)\n",
    "fig.savefig(os.path.join(chart_dir, 'Finisher_count_by_distance_gender.png'), dpi=200)\n"
   ]
  },
  {
   "cell_type": "code",
   "execution_count": 78,
   "id": "35d32d26-5649-4b4b-b548-aa3b1d20a26a",
   "metadata": {},
   "outputs": [],
   "source": [
    "gender_ct.to_csv(os.path.join(data_dir,'Finisher_distance_gender_ct_by_year.csv'))\n",
    "yr_dist_ct.to_csv(os.path.join(data_dir,'Finisher_distance_ct_by_year.csv'))"
   ]
  }
 ],
 "metadata": {
  "kernelspec": {
   "display_name": "Python 3 (ipykernel)",
   "language": "python",
   "name": "python3"
  },
  "language_info": {
   "codemirror_mode": {
    "name": "ipython",
    "version": 3
   },
   "file_extension": ".py",
   "mimetype": "text/x-python",
   "name": "python",
   "nbconvert_exporter": "python",
   "pygments_lexer": "ipython3",
   "version": "3.11.5"
  }
 },
 "nbformat": 4,
 "nbformat_minor": 5
}
