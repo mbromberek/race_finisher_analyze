{
 "cells": [
  {
   "cell_type": "code",
   "execution_count": 1,
   "id": "5e0f8d27-4c64-467a-b210-4a1a74e0e24d",
   "metadata": {},
   "outputs": [],
   "source": [
    "# First party libraries\n",
    "import time\n",
    "import csv\n",
    "import os"
   ]
  },
  {
   "cell_type": "code",
   "execution_count": 2,
   "id": "31593456-87fa-4945-a9b3-32cc1ac42951",
   "metadata": {},
   "outputs": [],
   "source": [
    "# 3rd Party Libraries\n",
    "import pandas as pd\n",
    "import numpy as np\n",
    "\n",
    "from selenium import webdriver\n",
    "from selenium.webdriver.chrome.options import Options\n",
    "from selenium.webdriver.common.by import By"
   ]
  },
  {
   "cell_type": "markdown",
   "id": "bd25b4e2-34e0-4970-b569-c17b6aafcff9",
   "metadata": {},
   "source": [
    "### Need to set the below fields for race data to get and where to save results\n",
    "- athlink: URL for race\n",
    "- race_option: option under race for the desired distance. Option number currently matches order in Race drop down.\n",
    "- out_fname: output file to write read in data to"
   ]
  },
  {
   "cell_type": "code",
   "execution_count": 3,
   "id": "4a57dd38-8748-4ae2-b393-959bc7767116",
   "metadata": {},
   "outputs": [],
   "source": [
    "athlink = 'https://www.athlinks.com/event/229325/results/Event/1039501/Course/2320851/Results'\n",
    "# out_fname = 'Steamboat_15K_2023_results.csv'\n",
    "out_fname = 'Steamboat_4mi_2023_results.csv'\n",
    "race_option = 'option-2' #4 mile\n",
    "\n",
    "# athlink = 'https://www.athlinks.com/event/229325/results/Event/1007071/Course/2203536/Results'\n",
    "# out_fname = 'Steamboat_15K_2022_results.csv'\n",
    "# out_fname = 'Steamboat_4mi_2022_results.csv'\n",
    "# race_option = 'option-2' #4 mile\n",
    "\n",
    "# athlink = 'https://www.athlinks.com/event/229325/results/Event/974250/Results'\n",
    "# out_fname = 'Steamboat_4mi_2021_results.csv'\n",
    "# race_option = 'option-1' #4 mile\n",
    "\n",
    "# athlink = 'https://www.athlinks.com/event/229325/results/Event/861668/Results'\n",
    "# out_fname = 'Steamboat_15K_2019_results.csv'\n",
    "# out_fname = 'Steamboat_4mi_2019_results.csv'\n",
    "# race_option = 'option-1' #4 mile\n",
    "\n",
    "# athlink = 'https://www.athlinks.com/event/229325/results/Event/706436/Results'\n",
    "# out_fname = 'Steamboat_15K_2018_results.csv'\n",
    "# out_fname = 'Steamboat_4mi_2018_results.csv'\n",
    "# race_option = 'option-1' #4 mile\n",
    "\n",
    "# athlink = 'https://www.athlinks.com/event/229325/results/Event/648093/Results'\n",
    "# out_fname = 'Steamboat_15K_2017_results.csv'\n",
    "# out_fname = 'Steamboat_4mi_2017_results.csv'\n",
    "# race_option = 'option-1' #4 mile\n",
    "\n",
    "# athlink = 'https://www.athlinks.com/event/229325/results/Event/549744/Results'\n",
    "# out_fname = 'Steamboat_4mi_2016_results.csv'\n",
    "# race_option = 'option-3' #15K\n",
    "# race_option = 'option-4' #4 mile\n"
   ]
  },
  {
   "cell_type": "code",
   "execution_count": 4,
   "id": "58b36e6b-fe8e-467d-ab5d-95393d3fea2f",
   "metadata": {},
   "outputs": [],
   "source": [
    "'''\n",
    "Process passed in row and return dictionary of data\n",
    "'''\n",
    "def proc_row(ele):\n",
    "    runner = {}\n",
    "    resultCols = ele.find_elements(By.XPATH, './div')\n",
    "    runnerDetElem = resultCols[0].find_elements(By.XPATH,'./div/div')[1]\n",
    "    runner['name'] = runnerDetElem.find_element(By.TAG_NAME,'a').text\n",
    "    \n",
    "    runnerDetList = runnerDetElem.find_elements(By.TAG_NAME, 'span')\n",
    "    gender_age = runnerDetList[0].text.split(' ')\n",
    "    if len(gender_age) >=2:\n",
    "        runner['gender'] = gender_age[0]\n",
    "        runner['age'] = gender_age[1]\n",
    "    else:\n",
    "        runner['gender'] = gender_age[0]\n",
    "    runner['bib'] = runnerDetList[1].text.split(' ')[1]\n",
    "    \n",
    "    runner['time'] = resultCols[5].text\n",
    "    return runner"
   ]
  },
  {
   "cell_type": "code",
   "execution_count": 5,
   "id": "91087e76-a484-44bb-a02b-ecf974e04adc",
   "metadata": {},
   "outputs": [],
   "source": [
    "chrome_options = Options()\n",
    "chrome_options.add_experimental_option('prefs', {\n",
    "    'credentials_enable_service': False,\n",
    "    'profile': {\n",
    "        'password_manager_enabled': False\n",
    "    }\n",
    "})\n",
    "\n",
    "browser = webdriver.Chrome(options=chrome_options)"
   ]
  },
  {
   "cell_type": "markdown",
   "id": "fcbb7034-a606-43c6-a2d6-3bbb812259e1",
   "metadata": {},
   "source": [
    "# Open page and load race distance"
   ]
  },
  {
   "cell_type": "code",
   "execution_count": 6,
   "id": "c81000e3-3ab7-4b7f-a76d-00c4a12d61e7",
   "metadata": {},
   "outputs": [],
   "source": [
    "browser.get(athlink)\n",
    "time.sleep(5)"
   ]
  },
  {
   "cell_type": "code",
   "execution_count": 7,
   "id": "77674869-2162-4886-b99a-6395abea3f0f",
   "metadata": {},
   "outputs": [
    {
     "name": "stdout",
     "output_type": "stream",
     "text": [
      "All Race Types\n"
     ]
    }
   ],
   "source": [
    "racesElem = browser.find_element(By.ID, 'race')\n",
    "print(racesElem.text)\n"
   ]
  },
  {
   "cell_type": "code",
   "execution_count": 8,
   "id": "87198043-0f1d-467d-9c91-8f19903fba8c",
   "metadata": {},
   "outputs": [
    {
     "name": "stdout",
     "output_type": "stream",
     "text": [
      "<div class=\"MuiSelect-root MuiSelect-select MuiSelect-selectMenu MuiInputBase-input MuiInput-input\" tabindex=\"0\" role=\"button\" aria-haspopup=\"listbox\" aria-labelledby=\"race-label race\" id=\"race\">All Race Types</div><input aria-hidden=\"true\" tabindex=\"-1\" class=\"MuiSelect-nativeInput\" value=\"0\"><svg class=\"MuiSvgIcon-root MuiSelect-icon\" focusable=\"false\" viewBox=\"0 0 24 24\" aria-hidden=\"true\"><path d=\"M7 10l5 5 5-5z\"></path></svg>\n"
     ]
    }
   ],
   "source": [
    "parentElem = racesElem.find_element(By.XPATH, \"./..\")\n",
    "print(parentElem.get_attribute('innerHTML'))\n"
   ]
  },
  {
   "cell_type": "code",
   "execution_count": 9,
   "id": "29c7d03e-8eb2-46c6-bebf-ad6d3e52db79",
   "metadata": {},
   "outputs": [],
   "source": [
    "inputElem = parentElem.find_element(By.TAG_NAME, 'input')\n",
    "parentElem.click()"
   ]
  },
  {
   "cell_type": "code",
   "execution_count": 10,
   "id": "f3230a1f-fd1a-4c36-953a-0f99e231d7eb",
   "metadata": {},
   "outputs": [],
   "source": [
    "# Option to use is based on order in the drop down list, which veries by event\n",
    "raceTypeElem = browser.find_element(By.ID, race_option)\n",
    "raceTypeElem.click()\n",
    "time.sleep(3)"
   ]
  },
  {
   "cell_type": "code",
   "execution_count": 11,
   "id": "25626079-4e1e-4201-b407-9deb82aad57a",
   "metadata": {},
   "outputs": [
    {
     "name": "stdout",
     "output_type": "stream",
     "text": [
      "https://www.athlinks.com/event/229325/results/Event/1039501/Course/2320852/Results\n",
      "2320852\n"
     ]
    }
   ],
   "source": [
    "# some races can get the event ID from the URL but older ones do not\n",
    "# event_id = athlink.split('/')[-2]\n",
    "# if 'Division' in athlink:\n",
    "#     event_id = athlink.split('/')[-4]\n",
    "# # event_id = str(1611450) #Steamboat_15K_2019\n",
    "# event_id = str(1152845) #Steamboat_15K_2018\n",
    "# event_id = str(934543) #Steamboat_15K_2017\n",
    "# event_id = str(818177) #Steamboat_15K_2016\n",
    "# event_id = str(818176) #Steamboat_4mi_2016\n",
    "\n",
    "updated_url = browser.current_url\n",
    "print(updated_url)\n",
    "event_id = updated_url.split('/')[-2]\n",
    "print(event_id)\n"
   ]
  },
  {
   "cell_type": "markdown",
   "id": "58c36e83-6d68-4eac-9855-919c0c3610d6",
   "metadata": {},
   "source": [
    "# Get results"
   ]
  },
  {
   "cell_type": "code",
   "execution_count": 12,
   "id": "1cf6851f-b533-41dc-a977-73751d733fd0",
   "metadata": {},
   "outputs": [],
   "source": [
    "runners = []\n",
    "pages_remain = True\n",
    "while pages_remain:\n",
    "    resultsParent = browser.find_element(By.ID, 'eventResults_'+event_id)\n",
    "    # resultElemLst = resultsParent.find_elements(By.TAG_NAME, 'div')\n",
    "    resultElemLst = resultsParent.find_elements(By.XPATH, './div')\n",
    "    for resultElem in resultElemLst:\n",
    "        runner = proc_row(resultElem)\n",
    "        \n",
    "        # print('Runner: ' + str(runner))\n",
    "        # print(runner['name'] + ', ' + runner['gender'] + runner['age'] \\\n",
    "              # + ' Bib: ' + runner['bib']+ ' finished in ' + runner['time'])\n",
    "        runners.append(runner)\n",
    "    \n",
    "    pager = browser.find_element(By.ID, 'pager')\n",
    "    last_pager_button = pager.find_elements(By.TAG_NAME, 'button')[-1]\n",
    "    # print('last button text:' + last_pager_button.text)\n",
    "    if last_pager_button.text != '>':\n",
    "        pages_remain = False\n",
    "    else:\n",
    "        browser.execute_script(\"arguments[0].scrollIntoView();\", last_pager_button)\n",
    "        last_pager_button.click()\n",
    "        time.sleep(5)\n",
    "        \n",
    "\n"
   ]
  },
  {
   "cell_type": "markdown",
   "id": "3c0cd552-18e6-4905-8577-1ede2a29da78",
   "metadata": {},
   "source": [
    "If a runner crosses checkpoints but does not finish the race they may show at the end of the results with just their time up to that checkpoint. It will be under a different section but the job could pick those up if they are on a page just of people who did not finish the race. So need to check results at end and possibly remove those users. "
   ]
  },
  {
   "cell_type": "code",
   "execution_count": 13,
   "id": "a6cbb404-9e09-480c-b472-49dfc721e86c",
   "metadata": {},
   "outputs": [],
   "source": [
    "browser.quit()"
   ]
  },
  {
   "cell_type": "markdown",
   "id": "08cf8d6e-0a8c-4759-91cc-b1b93872979d",
   "metadata": {},
   "source": [
    "# Save results to CSV"
   ]
  },
  {
   "cell_type": "code",
   "execution_count": 14,
   "id": "4ecd63bc-7ced-4c75-ae53-b57b20ae7932",
   "metadata": {},
   "outputs": [],
   "source": [
    "field_names = ['name', 'bib', 'gender', 'age', 'time']\n",
    "home_dir = os.path.expanduser('~')\n",
    "with open(os.path.join(home_dir, 'Downloads', out_fname),'w') as csvfile:\n",
    "    writer = csv.DictWriter(csvfile, fieldnames = field_names)\n",
    "    writer.writeheader()\n",
    "    writer.writerows(runners)"
   ]
  }
 ],
 "metadata": {
  "kernelspec": {
   "display_name": "Python 3 (ipykernel)",
   "language": "python",
   "name": "python3"
  },
  "language_info": {
   "codemirror_mode": {
    "name": "ipython",
    "version": 3
   },
   "file_extension": ".py",
   "mimetype": "text/x-python",
   "name": "python",
   "nbconvert_exporter": "python",
   "pygments_lexer": "ipython3",
   "version": "3.11.5"
  }
 },
 "nbformat": 4,
 "nbformat_minor": 5
}
