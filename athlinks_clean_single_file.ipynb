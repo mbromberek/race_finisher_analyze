{
 "cells": [
  {
   "cell_type": "markdown",
   "id": "329e373e-5290-4e7b-8c9a-14cc07867612",
   "metadata": {},
   "source": [
    "# Clean and merge data"
   ]
  },
  {
   "cell_type": "code",
   "execution_count": 1,
   "id": "a683d7e6-6c01-4664-8d39-a2b262cda2ef",
   "metadata": {},
   "outputs": [],
   "source": [
    "# First party libraries\n",
    "import time\n",
    "import csv\n",
    "import os\n",
    "\n",
    "# 3rd Party Libraries\n",
    "import pandas as pd\n",
    "import numpy as np"
   ]
  },
  {
   "cell_type": "code",
   "execution_count": 2,
   "id": "d54e1d7f-02d9-4605-a85b-d51a52cf140b",
   "metadata": {},
   "outputs": [],
   "source": [
    "csv_files = ['data/Steamboat_15K_2016_results.csv',\\\n",
    "             'data/Steamboat_15K_2018_results.csv',\\\n",
    "             'data/Steamboat_15K_2022_results.csv',\\\n",
    "             'data/Steamboat_15K_2017_results.csv',\\\n",
    "             'data/Steamboat_15K_2019_results.csv',\\\n",
    "             'data/Steamboat_15K_2023_results.csv'\n",
    "            ]\n"
   ]
  },
  {
   "cell_type": "code",
   "execution_count": 3,
   "id": "304bd40a-ff18-441a-b1a5-a0d7af70226e",
   "metadata": {},
   "outputs": [],
   "source": [
    "f_name = csv_files[0]\n",
    "df = pd.read_csv(f_name)"
   ]
  },
  {
   "cell_type": "code",
   "execution_count": 4,
   "id": "1367b6f0-bf29-4aea-9b85-c6d72050985d",
   "metadata": {},
   "outputs": [
    {
     "data": {
      "text/html": [
       "<div>\n",
       "<style scoped>\n",
       "    .dataframe tbody tr th:only-of-type {\n",
       "        vertical-align: middle;\n",
       "    }\n",
       "\n",
       "    .dataframe tbody tr th {\n",
       "        vertical-align: top;\n",
       "    }\n",
       "\n",
       "    .dataframe thead th {\n",
       "        text-align: right;\n",
       "    }\n",
       "</style>\n",
       "<table border=\"1\" class=\"dataframe\">\n",
       "  <thead>\n",
       "    <tr style=\"text-align: right;\">\n",
       "      <th></th>\n",
       "      <th>name</th>\n",
       "      <th>bib</th>\n",
       "      <th>gender</th>\n",
       "      <th>age</th>\n",
       "      <th>time</th>\n",
       "    </tr>\n",
       "  </thead>\n",
       "  <tbody>\n",
       "    <tr>\n",
       "      <th>0</th>\n",
       "      <td>Zach Plank</td>\n",
       "      <td>9755</td>\n",
       "      <td>M</td>\n",
       "      <td>21.0</td>\n",
       "      <td>48:18</td>\n",
       "    </tr>\n",
       "    <tr>\n",
       "      <th>1</th>\n",
       "      <td>Dan O'Keefe</td>\n",
       "      <td>9753</td>\n",
       "      <td>M</td>\n",
       "      <td>20.0</td>\n",
       "      <td>49:28</td>\n",
       "    </tr>\n",
       "    <tr>\n",
       "      <th>2</th>\n",
       "      <td>Omar Gomez</td>\n",
       "      <td>9757</td>\n",
       "      <td>M</td>\n",
       "      <td>21.0</td>\n",
       "      <td>50:46</td>\n",
       "    </tr>\n",
       "    <tr>\n",
       "      <th>3</th>\n",
       "      <td>Nolan McKenna</td>\n",
       "      <td>9754</td>\n",
       "      <td>M</td>\n",
       "      <td>20.0</td>\n",
       "      <td>51:46</td>\n",
       "    </tr>\n",
       "    <tr>\n",
       "      <th>4</th>\n",
       "      <td>Dan Regalado</td>\n",
       "      <td>9587</td>\n",
       "      <td>M</td>\n",
       "      <td>29.0</td>\n",
       "      <td>52:02</td>\n",
       "    </tr>\n",
       "  </tbody>\n",
       "</table>\n",
       "</div>"
      ],
      "text/plain": [
       "            name   bib gender   age   time\n",
       "0     Zach Plank  9755      M  21.0  48:18\n",
       "1    Dan O'Keefe  9753      M  20.0  49:28\n",
       "2     Omar Gomez  9757      M  21.0  50:46\n",
       "3  Nolan McKenna  9754      M  20.0  51:46\n",
       "4   Dan Regalado  9587      M  29.0  52:02"
      ]
     },
     "execution_count": 4,
     "metadata": {},
     "output_type": "execute_result"
    }
   ],
   "source": [
    "df.head()"
   ]
  },
  {
   "cell_type": "code",
   "execution_count": 5,
   "id": "14b40596-dce4-4ce0-921f-dff1a8e8e0e5",
   "metadata": {},
   "outputs": [
    {
     "name": "stdout",
     "output_type": "stream",
     "text": [
      "2016\n"
     ]
    }
   ],
   "source": [
    "race_yr = f_name.split('_')[2]\n",
    "print(race_yr)"
   ]
  },
  {
   "cell_type": "code",
   "execution_count": 6,
   "id": "1f2cfabe-0c59-4f38-8cd4-267282466e16",
   "metadata": {},
   "outputs": [
    {
     "name": "stdout",
     "output_type": "stream",
     "text": [
      "<class 'pandas.core.frame.DataFrame'>\n",
      "RangeIndex: 822 entries, 0 to 821\n",
      "Data columns (total 6 columns):\n",
      " #   Column  Non-Null Count  Dtype  \n",
      "---  ------  --------------  -----  \n",
      " 0   name    822 non-null    object \n",
      " 1   bib     822 non-null    int64  \n",
      " 2   gender  822 non-null    object \n",
      " 3   age     821 non-null    float64\n",
      " 4   time    822 non-null    object \n",
      " 5   year    822 non-null    object \n",
      "dtypes: float64(1), int64(1), object(4)\n",
      "memory usage: 38.7+ KB\n",
      "None\n"
     ]
    },
    {
     "data": {
      "text/html": [
       "<div>\n",
       "<style scoped>\n",
       "    .dataframe tbody tr th:only-of-type {\n",
       "        vertical-align: middle;\n",
       "    }\n",
       "\n",
       "    .dataframe tbody tr th {\n",
       "        vertical-align: top;\n",
       "    }\n",
       "\n",
       "    .dataframe thead th {\n",
       "        text-align: right;\n",
       "    }\n",
       "</style>\n",
       "<table border=\"1\" class=\"dataframe\">\n",
       "  <thead>\n",
       "    <tr style=\"text-align: right;\">\n",
       "      <th></th>\n",
       "      <th>name</th>\n",
       "      <th>bib</th>\n",
       "      <th>gender</th>\n",
       "      <th>age</th>\n",
       "      <th>time</th>\n",
       "      <th>year</th>\n",
       "    </tr>\n",
       "  </thead>\n",
       "  <tbody>\n",
       "    <tr>\n",
       "      <th>0</th>\n",
       "      <td>Zach Plank</td>\n",
       "      <td>9755</td>\n",
       "      <td>M</td>\n",
       "      <td>21.0</td>\n",
       "      <td>48:18</td>\n",
       "      <td>2016</td>\n",
       "    </tr>\n",
       "    <tr>\n",
       "      <th>1</th>\n",
       "      <td>Dan O'Keefe</td>\n",
       "      <td>9753</td>\n",
       "      <td>M</td>\n",
       "      <td>20.0</td>\n",
       "      <td>49:28</td>\n",
       "      <td>2016</td>\n",
       "    </tr>\n",
       "    <tr>\n",
       "      <th>2</th>\n",
       "      <td>Omar Gomez</td>\n",
       "      <td>9757</td>\n",
       "      <td>M</td>\n",
       "      <td>21.0</td>\n",
       "      <td>50:46</td>\n",
       "      <td>2016</td>\n",
       "    </tr>\n",
       "    <tr>\n",
       "      <th>3</th>\n",
       "      <td>Nolan McKenna</td>\n",
       "      <td>9754</td>\n",
       "      <td>M</td>\n",
       "      <td>20.0</td>\n",
       "      <td>51:46</td>\n",
       "      <td>2016</td>\n",
       "    </tr>\n",
       "    <tr>\n",
       "      <th>4</th>\n",
       "      <td>Dan Regalado</td>\n",
       "      <td>9587</td>\n",
       "      <td>M</td>\n",
       "      <td>29.0</td>\n",
       "      <td>52:02</td>\n",
       "      <td>2016</td>\n",
       "    </tr>\n",
       "  </tbody>\n",
       "</table>\n",
       "</div>"
      ],
      "text/plain": [
       "            name   bib gender   age   time  year\n",
       "0     Zach Plank  9755      M  21.0  48:18  2016\n",
       "1    Dan O'Keefe  9753      M  20.0  49:28  2016\n",
       "2     Omar Gomez  9757      M  21.0  50:46  2016\n",
       "3  Nolan McKenna  9754      M  20.0  51:46  2016\n",
       "4   Dan Regalado  9587      M  29.0  52:02  2016"
      ]
     },
     "execution_count": 6,
     "metadata": {},
     "output_type": "execute_result"
    }
   ],
   "source": [
    "df['year'] = race_yr\n",
    "print(df.info())\n",
    "df.head()"
   ]
  },
  {
   "cell_type": "code",
   "execution_count": 7,
   "id": "05fa0bd2-2146-4aab-a851-21713c076992",
   "metadata": {},
   "outputs": [],
   "source": [
    "tm = '48:18'"
   ]
  },
  {
   "cell_type": "code",
   "execution_count": 8,
   "id": "077a9c7e-79de-4dbe-8b8a-828a7e960990",
   "metadata": {},
   "outputs": [
    {
     "name": "stdout",
     "output_type": "stream",
     "text": [
      "Time 0 hours, 48 minutes, 18 seconds\n",
      "Total time in seconds: 2898\n"
     ]
    }
   ],
   "source": [
    "tm_split = tm.split(':')[::-1]\n",
    "tm_seconds = tm_split[0]\n",
    "if len(tm_split) >1:\n",
    "    tm_minutes = tm_split[1]\n",
    "    if len(tm_split) >2:\n",
    "        tm_hours = tm_split[2]\n",
    "    else:\n",
    "        tm_hours = 0\n",
    "else:\n",
    "    tm_minutes = 0\n",
    "    tm_hour = 0\n",
    "print(f'Time {tm_hours} hours, {tm_minutes} minutes, {tm_seconds} seconds')\n",
    "tot_time_seconds = int(tm_hours) * 3600 + int(tm_minutes) * 60 + int(tm_seconds)\n",
    "print(f'Total time in seconds: {tot_time_seconds}')"
   ]
  },
  {
   "cell_type": "code",
   "execution_count": 9,
   "id": "68bfd3ae-9cd6-40f3-a5c9-f00bdb2ec396",
   "metadata": {},
   "outputs": [
    {
     "name": "stdout",
     "output_type": "stream",
     "text": [
      "Total time in seconds: 2898\n"
     ]
    }
   ],
   "source": [
    "tm_to_seconds_conv = [1, 60, 3600] # list of conversion amounts for seconds, minutes, hours to seconds\n",
    "tm_split = tm.split(':')[::-1] # reverse the list so seconds are first\n",
    "tot_time_seconds = 0\n",
    "for idx, tm_entry in enumerate(tm_split):\n",
    "    tot_time_seconds = tot_time_seconds + int(tm_entry) * tm_to_seconds_conv[idx]\n",
    "print(f'Total time in seconds: {tot_time_seconds}')"
   ]
  },
  {
   "cell_type": "code",
   "execution_count": 10,
   "id": "35b1a834-d4f6-46e0-9d98-3424f6dfdcab",
   "metadata": {},
   "outputs": [
    {
     "name": "stdout",
     "output_type": "stream",
     "text": [
      "Total time in seconds: 2898\n"
     ]
    }
   ],
   "source": [
    "tm_to_seconds_conv = [1, 60, 3600] # list of conversion amounts for seconds, minutes, hours to seconds\n",
    "tot_time_seconds = 0\n",
    "for idx, tm_entry in enumerate(tm.split(':')[::-1]):\n",
    "    tot_time_seconds = tot_time_seconds + int(tm_entry) * tm_to_seconds_conv[idx]\n",
    "print(f'Total time in seconds: {tot_time_seconds}')"
   ]
  },
  {
   "cell_type": "markdown",
   "id": "102fcf40-75d0-4bb7-9a74-c40f2cf27a48",
   "metadata": {},
   "source": [
    "## Get time in seconds"
   ]
  },
  {
   "cell_type": "code",
   "execution_count": 11,
   "id": "e6d2a680-e314-4b93-ad34-0d7a4133aa90",
   "metadata": {},
   "outputs": [
    {
     "data": {
      "text/html": [
       "<div>\n",
       "<style scoped>\n",
       "    .dataframe tbody tr th:only-of-type {\n",
       "        vertical-align: middle;\n",
       "    }\n",
       "\n",
       "    .dataframe tbody tr th {\n",
       "        vertical-align: top;\n",
       "    }\n",
       "\n",
       "    .dataframe thead th {\n",
       "        text-align: right;\n",
       "    }\n",
       "</style>\n",
       "<table border=\"1\" class=\"dataframe\">\n",
       "  <thead>\n",
       "    <tr style=\"text-align: right;\">\n",
       "      <th></th>\n",
       "      <th>name</th>\n",
       "      <th>bib</th>\n",
       "      <th>gender</th>\n",
       "      <th>age</th>\n",
       "      <th>time</th>\n",
       "      <th>year</th>\n",
       "      <th>tm_split_s</th>\n",
       "      <th>tm_split_m</th>\n",
       "      <th>tm_split_h</th>\n",
       "      <th>time_seconds</th>\n",
       "    </tr>\n",
       "  </thead>\n",
       "  <tbody>\n",
       "    <tr>\n",
       "      <th>0</th>\n",
       "      <td>Zach Plank</td>\n",
       "      <td>9755</td>\n",
       "      <td>M</td>\n",
       "      <td>21.0</td>\n",
       "      <td>48:18</td>\n",
       "      <td>2016</td>\n",
       "      <td>18</td>\n",
       "      <td>48</td>\n",
       "      <td>0</td>\n",
       "      <td>2898</td>\n",
       "    </tr>\n",
       "    <tr>\n",
       "      <th>1</th>\n",
       "      <td>Dan O'Keefe</td>\n",
       "      <td>9753</td>\n",
       "      <td>M</td>\n",
       "      <td>20.0</td>\n",
       "      <td>49:28</td>\n",
       "      <td>2016</td>\n",
       "      <td>28</td>\n",
       "      <td>49</td>\n",
       "      <td>0</td>\n",
       "      <td>2968</td>\n",
       "    </tr>\n",
       "    <tr>\n",
       "      <th>2</th>\n",
       "      <td>Omar Gomez</td>\n",
       "      <td>9757</td>\n",
       "      <td>M</td>\n",
       "      <td>21.0</td>\n",
       "      <td>50:46</td>\n",
       "      <td>2016</td>\n",
       "      <td>46</td>\n",
       "      <td>50</td>\n",
       "      <td>0</td>\n",
       "      <td>3046</td>\n",
       "    </tr>\n",
       "    <tr>\n",
       "      <th>3</th>\n",
       "      <td>Nolan McKenna</td>\n",
       "      <td>9754</td>\n",
       "      <td>M</td>\n",
       "      <td>20.0</td>\n",
       "      <td>51:46</td>\n",
       "      <td>2016</td>\n",
       "      <td>46</td>\n",
       "      <td>51</td>\n",
       "      <td>0</td>\n",
       "      <td>3106</td>\n",
       "    </tr>\n",
       "    <tr>\n",
       "      <th>4</th>\n",
       "      <td>Dan Regalado</td>\n",
       "      <td>9587</td>\n",
       "      <td>M</td>\n",
       "      <td>29.0</td>\n",
       "      <td>52:02</td>\n",
       "      <td>2016</td>\n",
       "      <td>2</td>\n",
       "      <td>52</td>\n",
       "      <td>0</td>\n",
       "      <td>3122</td>\n",
       "    </tr>\n",
       "  </tbody>\n",
       "</table>\n",
       "</div>"
      ],
      "text/plain": [
       "            name   bib gender   age   time  year  tm_split_s  tm_split_m  \\\n",
       "0     Zach Plank  9755      M  21.0  48:18  2016          18          48   \n",
       "1    Dan O'Keefe  9753      M  20.0  49:28  2016          28          49   \n",
       "2     Omar Gomez  9757      M  21.0  50:46  2016          46          50   \n",
       "3  Nolan McKenna  9754      M  20.0  51:46  2016          46          51   \n",
       "4   Dan Regalado  9587      M  29.0  52:02  2016           2          52   \n",
       "\n",
       "   tm_split_h  time_seconds  \n",
       "0           0          2898  \n",
       "1           0          2968  \n",
       "2           0          3046  \n",
       "3           0          3106  \n",
       "4           0          3122  "
      ]
     },
     "execution_count": 11,
     "metadata": {},
     "output_type": "execute_result"
    }
   ],
   "source": [
    "df[['tm_split_s','tm_split_m','tm_split_h']] = df['time'].apply(lambda x:pd.Series(x.split(':')[::-1]))\n",
    "df[['tm_split_s','tm_split_m','tm_split_h']] = \\\n",
    "    df[['tm_split_s','tm_split_m','tm_split_h']].fillna(0).astype('int64')\n",
    "df['time_seconds'] = df['tm_split_s'] + df['tm_split_m']  *60 + df['tm_split_h'] *3600\n",
    "df.head()"
   ]
  },
  {
   "cell_type": "markdown",
   "id": "d87563b4-153a-41df-bceb-33c579985c72",
   "metadata": {},
   "source": [
    "## Convert field types and remove invalid records"
   ]
  },
  {
   "cell_type": "markdown",
   "id": "61eac993-86f7-4817-ae78-05e3ad16ad10",
   "metadata": {},
   "source": [
    "### Check for any ages that are not populated and remove those entries"
   ]
  },
  {
   "cell_type": "code",
   "execution_count": 12,
   "id": "6f02d120-8212-4e6c-b65b-2cd0e58c1231",
   "metadata": {},
   "outputs": [
    {
     "data": {
      "text/html": [
       "<div>\n",
       "<style scoped>\n",
       "    .dataframe tbody tr th:only-of-type {\n",
       "        vertical-align: middle;\n",
       "    }\n",
       "\n",
       "    .dataframe tbody tr th {\n",
       "        vertical-align: top;\n",
       "    }\n",
       "\n",
       "    .dataframe thead th {\n",
       "        text-align: right;\n",
       "    }\n",
       "</style>\n",
       "<table border=\"1\" class=\"dataframe\">\n",
       "  <thead>\n",
       "    <tr style=\"text-align: right;\">\n",
       "      <th></th>\n",
       "      <th>name</th>\n",
       "      <th>bib</th>\n",
       "      <th>gender</th>\n",
       "      <th>age</th>\n",
       "      <th>time</th>\n",
       "      <th>year</th>\n",
       "      <th>tm_split_s</th>\n",
       "      <th>tm_split_m</th>\n",
       "      <th>tm_split_h</th>\n",
       "      <th>time_seconds</th>\n",
       "    </tr>\n",
       "  </thead>\n",
       "  <tbody>\n",
       "    <tr>\n",
       "      <th>551</th>\n",
       "      <td>Samantha Richrath</td>\n",
       "      <td>3132</td>\n",
       "      <td>F</td>\n",
       "      <td>NaN</td>\n",
       "      <td>1:33:02</td>\n",
       "      <td>2016</td>\n",
       "      <td>2</td>\n",
       "      <td>33</td>\n",
       "      <td>1</td>\n",
       "      <td>5582</td>\n",
       "    </tr>\n",
       "  </tbody>\n",
       "</table>\n",
       "</div>"
      ],
      "text/plain": [
       "                  name   bib gender  age     time  year  tm_split_s  \\\n",
       "551  Samantha Richrath  3132      F  NaN  1:33:02  2016           2   \n",
       "\n",
       "     tm_split_m  tm_split_h  time_seconds  \n",
       "551          33           1          5582  "
      ]
     },
     "execution_count": 12,
     "metadata": {},
     "output_type": "execute_result"
    }
   ],
   "source": [
    "df[df['age'].isna()].head()"
   ]
  },
  {
   "cell_type": "code",
   "execution_count": 13,
   "id": "8cc8ee5e-da00-4328-81b5-fadd868da638",
   "metadata": {},
   "outputs": [],
   "source": [
    "df.dropna(subset=['age'], inplace=True)"
   ]
  },
  {
   "cell_type": "code",
   "execution_count": 14,
   "id": "1475f186-4dd8-488c-8d91-b4c32f9f0f06",
   "metadata": {},
   "outputs": [
    {
     "data": {
      "text/html": [
       "<div>\n",
       "<style scoped>\n",
       "    .dataframe tbody tr th:only-of-type {\n",
       "        vertical-align: middle;\n",
       "    }\n",
       "\n",
       "    .dataframe tbody tr th {\n",
       "        vertical-align: top;\n",
       "    }\n",
       "\n",
       "    .dataframe thead th {\n",
       "        text-align: right;\n",
       "    }\n",
       "</style>\n",
       "<table border=\"1\" class=\"dataframe\">\n",
       "  <thead>\n",
       "    <tr style=\"text-align: right;\">\n",
       "      <th></th>\n",
       "      <th>name</th>\n",
       "      <th>bib</th>\n",
       "      <th>gender</th>\n",
       "      <th>age</th>\n",
       "      <th>time</th>\n",
       "      <th>year</th>\n",
       "      <th>tm_split_s</th>\n",
       "      <th>tm_split_m</th>\n",
       "      <th>tm_split_h</th>\n",
       "      <th>time_seconds</th>\n",
       "    </tr>\n",
       "  </thead>\n",
       "  <tbody>\n",
       "    <tr>\n",
       "      <th>0</th>\n",
       "      <td>Zach Plank</td>\n",
       "      <td>9755</td>\n",
       "      <td>M</td>\n",
       "      <td>21</td>\n",
       "      <td>48:18</td>\n",
       "      <td>2016</td>\n",
       "      <td>18</td>\n",
       "      <td>48</td>\n",
       "      <td>0</td>\n",
       "      <td>2898</td>\n",
       "    </tr>\n",
       "    <tr>\n",
       "      <th>1</th>\n",
       "      <td>Dan O'Keefe</td>\n",
       "      <td>9753</td>\n",
       "      <td>M</td>\n",
       "      <td>20</td>\n",
       "      <td>49:28</td>\n",
       "      <td>2016</td>\n",
       "      <td>28</td>\n",
       "      <td>49</td>\n",
       "      <td>0</td>\n",
       "      <td>2968</td>\n",
       "    </tr>\n",
       "    <tr>\n",
       "      <th>2</th>\n",
       "      <td>Omar Gomez</td>\n",
       "      <td>9757</td>\n",
       "      <td>M</td>\n",
       "      <td>21</td>\n",
       "      <td>50:46</td>\n",
       "      <td>2016</td>\n",
       "      <td>46</td>\n",
       "      <td>50</td>\n",
       "      <td>0</td>\n",
       "      <td>3046</td>\n",
       "    </tr>\n",
       "    <tr>\n",
       "      <th>3</th>\n",
       "      <td>Nolan McKenna</td>\n",
       "      <td>9754</td>\n",
       "      <td>M</td>\n",
       "      <td>20</td>\n",
       "      <td>51:46</td>\n",
       "      <td>2016</td>\n",
       "      <td>46</td>\n",
       "      <td>51</td>\n",
       "      <td>0</td>\n",
       "      <td>3106</td>\n",
       "    </tr>\n",
       "    <tr>\n",
       "      <th>4</th>\n",
       "      <td>Dan Regalado</td>\n",
       "      <td>9587</td>\n",
       "      <td>M</td>\n",
       "      <td>29</td>\n",
       "      <td>52:02</td>\n",
       "      <td>2016</td>\n",
       "      <td>2</td>\n",
       "      <td>52</td>\n",
       "      <td>0</td>\n",
       "      <td>3122</td>\n",
       "    </tr>\n",
       "  </tbody>\n",
       "</table>\n",
       "</div>"
      ],
      "text/plain": [
       "            name   bib gender  age   time  year  tm_split_s  tm_split_m  \\\n",
       "0     Zach Plank  9755      M   21  48:18  2016          18          48   \n",
       "1    Dan O'Keefe  9753      M   20  49:28  2016          28          49   \n",
       "2     Omar Gomez  9757      M   21  50:46  2016          46          50   \n",
       "3  Nolan McKenna  9754      M   20  51:46  2016          46          51   \n",
       "4   Dan Regalado  9587      M   29  52:02  2016           2          52   \n",
       "\n",
       "   tm_split_h  time_seconds  \n",
       "0           0          2898  \n",
       "1           0          2968  \n",
       "2           0          3046  \n",
       "3           0          3106  \n",
       "4           0          3122  "
      ]
     },
     "execution_count": 14,
     "metadata": {},
     "output_type": "execute_result"
    }
   ],
   "source": [
    "convert_dict = {'bib':'object','age':'int64'}\n",
    "df = df.astype(convert_dict)\n",
    "df.head()"
   ]
  },
  {
   "cell_type": "code",
   "execution_count": 15,
   "id": "36728d88-bef7-4ca6-89f1-10703f4a60da",
   "metadata": {},
   "outputs": [
    {
     "name": "stdout",
     "output_type": "stream",
     "text": [
      "<class 'pandas.core.frame.DataFrame'>\n",
      "Index: 821 entries, 0 to 821\n",
      "Data columns (total 10 columns):\n",
      " #   Column        Non-Null Count  Dtype \n",
      "---  ------        --------------  ----- \n",
      " 0   name          821 non-null    object\n",
      " 1   bib           821 non-null    object\n",
      " 2   gender        821 non-null    object\n",
      " 3   age           821 non-null    int64 \n",
      " 4   time          821 non-null    object\n",
      " 5   year          821 non-null    object\n",
      " 6   tm_split_s    821 non-null    int64 \n",
      " 7   tm_split_m    821 non-null    int64 \n",
      " 8   tm_split_h    821 non-null    int64 \n",
      " 9   time_seconds  821 non-null    int64 \n",
      "dtypes: int64(5), object(5)\n",
      "memory usage: 70.6+ KB\n"
     ]
    }
   ],
   "source": [
    "df.info()"
   ]
  },
  {
   "cell_type": "markdown",
   "id": "e2d6fdc9-bd52-4eb9-85f0-f5f213b2a4f2",
   "metadata": {},
   "source": [
    "# Drop unneeded fields"
   ]
  },
  {
   "cell_type": "code",
   "execution_count": 16,
   "id": "3bd02ff8-b23d-4887-aac8-14aa350c0ad3",
   "metadata": {},
   "outputs": [],
   "source": [
    "df.drop(columns=['name','bib', 'tm_split_s', 'tm_split_m', 'tm_split_h'], inplace=True)"
   ]
  },
  {
   "cell_type": "markdown",
   "id": "600a23e3-d42d-41be-bcde-48981ddbfa99",
   "metadata": {},
   "source": [
    "# Cleaned data"
   ]
  },
  {
   "cell_type": "code",
   "execution_count": 17,
   "id": "3dec0597-3c23-4a8c-9d22-bbea5891a994",
   "metadata": {},
   "outputs": [
    {
     "data": {
      "text/html": [
       "<div>\n",
       "<style scoped>\n",
       "    .dataframe tbody tr th:only-of-type {\n",
       "        vertical-align: middle;\n",
       "    }\n",
       "\n",
       "    .dataframe tbody tr th {\n",
       "        vertical-align: top;\n",
       "    }\n",
       "\n",
       "    .dataframe thead th {\n",
       "        text-align: right;\n",
       "    }\n",
       "</style>\n",
       "<table border=\"1\" class=\"dataframe\">\n",
       "  <thead>\n",
       "    <tr style=\"text-align: right;\">\n",
       "      <th></th>\n",
       "      <th>gender</th>\n",
       "      <th>age</th>\n",
       "      <th>time</th>\n",
       "      <th>year</th>\n",
       "      <th>time_seconds</th>\n",
       "    </tr>\n",
       "  </thead>\n",
       "  <tbody>\n",
       "    <tr>\n",
       "      <th>0</th>\n",
       "      <td>M</td>\n",
       "      <td>21</td>\n",
       "      <td>48:18</td>\n",
       "      <td>2016</td>\n",
       "      <td>2898</td>\n",
       "    </tr>\n",
       "    <tr>\n",
       "      <th>1</th>\n",
       "      <td>M</td>\n",
       "      <td>20</td>\n",
       "      <td>49:28</td>\n",
       "      <td>2016</td>\n",
       "      <td>2968</td>\n",
       "    </tr>\n",
       "    <tr>\n",
       "      <th>2</th>\n",
       "      <td>M</td>\n",
       "      <td>21</td>\n",
       "      <td>50:46</td>\n",
       "      <td>2016</td>\n",
       "      <td>3046</td>\n",
       "    </tr>\n",
       "    <tr>\n",
       "      <th>3</th>\n",
       "      <td>M</td>\n",
       "      <td>20</td>\n",
       "      <td>51:46</td>\n",
       "      <td>2016</td>\n",
       "      <td>3106</td>\n",
       "    </tr>\n",
       "    <tr>\n",
       "      <th>4</th>\n",
       "      <td>M</td>\n",
       "      <td>29</td>\n",
       "      <td>52:02</td>\n",
       "      <td>2016</td>\n",
       "      <td>3122</td>\n",
       "    </tr>\n",
       "  </tbody>\n",
       "</table>\n",
       "</div>"
      ],
      "text/plain": [
       "  gender  age   time  year  time_seconds\n",
       "0      M   21  48:18  2016          2898\n",
       "1      M   20  49:28  2016          2968\n",
       "2      M   21  50:46  2016          3046\n",
       "3      M   20  51:46  2016          3106\n",
       "4      M   29  52:02  2016          3122"
      ]
     },
     "execution_count": 17,
     "metadata": {},
     "output_type": "execute_result"
    }
   ],
   "source": [
    "df.head()"
   ]
  },
  {
   "cell_type": "code",
   "execution_count": 18,
   "id": "3ab8e545-8052-4499-9952-5ed12190e859",
   "metadata": {},
   "outputs": [
    {
     "data": {
      "text/html": [
       "<div>\n",
       "<style scoped>\n",
       "    .dataframe tbody tr th:only-of-type {\n",
       "        vertical-align: middle;\n",
       "    }\n",
       "\n",
       "    .dataframe tbody tr th {\n",
       "        vertical-align: top;\n",
       "    }\n",
       "\n",
       "    .dataframe thead th {\n",
       "        text-align: right;\n",
       "    }\n",
       "</style>\n",
       "<table border=\"1\" class=\"dataframe\">\n",
       "  <thead>\n",
       "    <tr style=\"text-align: right;\">\n",
       "      <th></th>\n",
       "      <th>gender</th>\n",
       "      <th>age</th>\n",
       "      <th>time</th>\n",
       "      <th>year</th>\n",
       "      <th>time_seconds</th>\n",
       "    </tr>\n",
       "  </thead>\n",
       "  <tbody>\n",
       "    <tr>\n",
       "      <th>817</th>\n",
       "      <td>F</td>\n",
       "      <td>43</td>\n",
       "      <td>2:24:45</td>\n",
       "      <td>2016</td>\n",
       "      <td>8685</td>\n",
       "    </tr>\n",
       "    <tr>\n",
       "      <th>818</th>\n",
       "      <td>F</td>\n",
       "      <td>30</td>\n",
       "      <td>2:26:16</td>\n",
       "      <td>2016</td>\n",
       "      <td>8776</td>\n",
       "    </tr>\n",
       "    <tr>\n",
       "      <th>819</th>\n",
       "      <td>F</td>\n",
       "      <td>71</td>\n",
       "      <td>2:28:13</td>\n",
       "      <td>2016</td>\n",
       "      <td>8893</td>\n",
       "    </tr>\n",
       "    <tr>\n",
       "      <th>820</th>\n",
       "      <td>M</td>\n",
       "      <td>35</td>\n",
       "      <td>2:30:12</td>\n",
       "      <td>2016</td>\n",
       "      <td>9012</td>\n",
       "    </tr>\n",
       "    <tr>\n",
       "      <th>821</th>\n",
       "      <td>M</td>\n",
       "      <td>74</td>\n",
       "      <td>2:32:51</td>\n",
       "      <td>2016</td>\n",
       "      <td>9171</td>\n",
       "    </tr>\n",
       "  </tbody>\n",
       "</table>\n",
       "</div>"
      ],
      "text/plain": [
       "    gender  age     time  year  time_seconds\n",
       "817      F   43  2:24:45  2016          8685\n",
       "818      F   30  2:26:16  2016          8776\n",
       "819      F   71  2:28:13  2016          8893\n",
       "820      M   35  2:30:12  2016          9012\n",
       "821      M   74  2:32:51  2016          9171"
      ]
     },
     "execution_count": 18,
     "metadata": {},
     "output_type": "execute_result"
    }
   ],
   "source": [
    "df.tail()"
   ]
  }
 ],
 "metadata": {
  "kernelspec": {
   "display_name": "Python 3 (ipykernel)",
   "language": "python",
   "name": "python3"
  },
  "language_info": {
   "codemirror_mode": {
    "name": "ipython",
    "version": 3
   },
   "file_extension": ".py",
   "mimetype": "text/x-python",
   "name": "python",
   "nbconvert_exporter": "python",
   "pygments_lexer": "ipython3",
   "version": "3.11.5"
  }
 },
 "nbformat": 4,
 "nbformat_minor": 5
}
